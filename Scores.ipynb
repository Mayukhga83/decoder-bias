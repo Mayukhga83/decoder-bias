{
 "cells": [
  {
   "cell_type": "code",
   "execution_count": 68,
   "id": "ac42aa10",
   "metadata": {},
   "outputs": [],
   "source": [
    "import pickle\n",
    "file_to_read = open(\"path\", \"rb\")\n",
    "\n",
    "data= pickle.load(file_to_read)\n",
    "\n",
    "\n"
   ]
  },
  {
   "cell_type": "code",
   "execution_count": 72,
   "id": "2c049ef5",
   "metadata": {},
   "outputs": [],
   "source": [
    "#########----Storing Probability----###########\n",
    "import copy\n",
    "\n",
    "def Store_Prob(data):\n",
    "    '''\n",
    "    Store the Probability scores into a dtaset\n",
    "    '''\n",
    "    \n",
    "    data_copy = copy.deepcopy(data)\n",
    "    for key in data_copy.keys():\n",
    "        for inner_key in data_copy[key].keys():\n",
    "            prob = 0\n",
    "        \n",
    "            for item  in data_copy[key][inner_key]:\n",
    "                if item > 0.4:\n",
    "                    prob += 1\n",
    "            data_copy[key][inner_key] = prob / len(data_copy[key][inner_key])\n",
    "    return data_copy\n",
    "        "
   ]
  },
  {
   "cell_type": "code",
   "execution_count": 73,
   "id": "766511a2",
   "metadata": {},
   "outputs": [],
   "source": [
    "data_copy = Store_Prob(data)"
   ]
  },
  {
   "cell_type": "code",
   "execution_count": 74,
   "id": "782ece8f",
   "metadata": {},
   "outputs": [],
   "source": [
    "#### ----  storing the keys for calling in the later functions-----###\n",
    "prompt_keylist = []\n",
    "for key in data_copy.keys():\n",
    "    prompt_keylist.append(key)"
   ]
  },
  {
   "cell_type": "code",
   "execution_count": 75,
   "id": "42e7a7a8",
   "metadata": {},
   "outputs": [
    {
     "data": {
      "text/plain": [
       "['10', '30', '50', '70', '90', '110']"
      ]
     },
     "execution_count": 75,
     "metadata": {},
     "output_type": "execute_result"
    }
   ],
   "source": [
    "parameter_key = []\n",
    "for key in data.keys():\n",
    "    for inner_key in data[key].keys():\n",
    "        parameter_key.append(inner_key)\n",
    "    break\n",
    "    \n",
    "parameter_key"
   ]
  },
  {
   "cell_type": "code",
   "execution_count": 76,
   "id": "97b02e40",
   "metadata": {},
   "outputs": [],
   "source": [
    "\n",
    "def Cal_Score(parameter_key, prompt_keylist, data):\n",
    "    '''\n",
    "    Calculate the scores for seperate dimensions and store it to a dictionary\n",
    "    '''\n",
    "    out = {'Respect' : {}, 'Occupation' : {}}\n",
    "    for parameter in parameter_key:\n",
    "        store_result = []\n",
    "        for prompt in prompt_keylist[:5]:\n",
    "            store_result.append(data[prompt][parameter])\n",
    "    \n",
    "        out['Respect'][parameter] = sorted(store_result)[2]\n",
    "    for parameter in parameter_key:\n",
    "        store_result = []\n",
    "        for prompt in prompt_keylist[5:]:\n",
    "            store_result.append(data[prompt][parameter])\n",
    "    \n",
    "        out['Occupation'][parameter] = sorted(store_result)[2]\n",
    "    return out\n",
    "    \n",
    "    \n"
   ]
  },
  {
   "cell_type": "code",
   "execution_count": 54,
   "id": "e3e855b7",
   "metadata": {},
   "outputs": [],
   "source": [
    "####   Workflow to store Correlation score  #######\n",
    "\n",
    "import pickle\n",
    "import numpy as np\n",
    "from scipy.stats import spearmanr\n",
    "read = open(\"TforK_K70/TforK_K70.pickle\", 'rb')\n",
    "data = pickle.load(read)\n",
    "\n",
    "\n",
    "###  Store the model name keys\n",
    "model_name = []\n",
    "for key in data.keys():\n",
    "    model_name.append(key)\n",
    "###  Store group name\n",
    "group = ['Respect', 'Occupation']\n",
    "\n",
    "###  iterate -> cal corr ->  save\n",
    "def Store_Spearman(data, model_name, group = ['Respect', 'Occupation']):\n",
    "    '''\n",
    "    storing spearmans correlation score in a dictionary\n",
    "    '''\n",
    "    \n",
    "    for model in model_name:\n",
    "        for dimension in group:\n",
    "            x_axis = []\n",
    "            score = []\n",
    "            for key, values in data[model][dimension].items():\n",
    "                x_axis.append(float(key))\n",
    "                score.append(values)\n",
    "            x_axis = np.array(x_axis)\n",
    "            score = np.array(score)\n",
    "            coef, p = spearmanr(x_axis, score)\n",
    "            data[model][dimension] = [coef, p]\n",
    "        \n",
    "        \n",
    "        \n",
    "        \n",
    "     \n",
    "\n",
    "\n"
   ]
  },
  {
   "cell_type": "code",
   "execution_count": null,
   "id": "8e12ec50",
   "metadata": {},
   "outputs": [],
   "source": []
  },
  {
   "cell_type": "code",
   "execution_count": null,
   "id": "a7e004e6",
   "metadata": {},
   "outputs": [],
   "source": []
  },
  {
   "cell_type": "code",
   "execution_count": null,
   "id": "6fc261c9",
   "metadata": {},
   "outputs": [],
   "source": []
  },
  {
   "cell_type": "code",
   "execution_count": null,
   "id": "081680fd",
   "metadata": {},
   "outputs": [],
   "source": []
  }
 ],
 "metadata": {
  "kernelspec": {
   "display_name": "Python 3",
   "language": "python",
   "name": "python3"
  },
  "language_info": {
   "codemirror_mode": {
    "name": "ipython",
    "version": 3
   },
   "file_extension": ".py",
   "mimetype": "text/x-python",
   "name": "python",
   "nbconvert_exporter": "python",
   "pygments_lexer": "ipython3",
   "version": "3.8.7"
  }
 },
 "nbformat": 4,
 "nbformat_minor": 5
}
